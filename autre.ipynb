{
 "cells": [
  {
   "cell_type": "markdown",
   "metadata": {},
   "source": [
    "\\begin{align}\n",
    "P([X_1 = P]) &= P([X_1 = P] \\cap [X_0 = P] \\cup [X_1 = P] \\cap [X_0 = S] \\cup [X_1 = P] \\cap [X_0 = N]) \\\\\n",
    "             &= P([X_1 = P] \\cap [X_0 = P]) + P([X_1 = P] \\cap [X_0 = S]) + P([X_1 = P] \\cap [X_0 = N]) \\\\\n",
    "             &= P_{X_0 = P}(X_1 = P) \\cdot P(X_0 = P) + P_{X_0 = S}(X_1 = P) \\cdot P(X_0 = S) + P_{X_0 = N}(X_1 = P) \\cdot P(X_0 = N) \\\\\n",
    "\\end{align}"
   ]
  },
  {
   "cell_type": "markdown",
   "metadata": {
    "vscode": {
     "languageId": "plaintext"
    }
   },
   "source": [
    "$\n",
    "A = \n",
    "\\left(\n",
    "\\begin{array}{c|cccccccccccc}\n",
    " & P & S & N \\\\ \\hline\n",
    "P & 0.6 & 0.1 & 0.3 \\\\\n",
    "S & 0.2 & 0.6 & 0.2 \\\\\n",
    "N & 0.4 & 0.0 & 0.6\n",
    "\\end{array}\n",
    "\\right)\n",
    "$"
   ]
  }
 ],
 "metadata": {
  "language_info": {
   "name": "python"
  }
 },
 "nbformat": 4,
 "nbformat_minor": 2
}
