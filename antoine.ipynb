{
 "cells": [
  {
   "cell_type": "markdown",
   "metadata": {},
   "source": []
  },
  {
   "cell_type": "markdown",
   "metadata": {},
   "source": [
    "# Algorithme page rank en partant de valeur initiale\n",
    "\n",
    "En théorie, en partant d'un graphe directionnel on peut construire la matrice adjacente à ce graphe et construire le page rank à partir d'une système à n équation(s) se resolvant assez simplement. Du moins, pour un graphe comportant un nombre limité de sommet / pages. Seulement, dans le cas de google, il y aurait une quantité de page à traiter qui serait bien trop grande, environ 130 000 milliards. Et un système d'équation à 130 000 milliards d'inconnues prendrait trop de temps et l'algorithme serait absolument inexploitable et ce même si l'algorithme est resolvable en temps polynomial O(E.n). Pour palier à cela on peut partir de valeur initiale et ainsi calculer le page rank de chacune des pages indépendament. "
   ]
  },
  {
   "cell_type": "code",
   "execution_count": 1,
   "metadata": {},
   "outputs": [],
   "source": [
    "def pageRank(pages, iterations=100):\n",
    "    pageAmount = len(pages) \n",
    "    scores = {}\n",
    "    \n",
    "    for page in pages:\n",
    "        scores[page] = 1 / pageAmount\n",
    "\n",
    "    for i in range(iterations):\n",
    "        newScores = {}\n",
    "        \n",
    "        for page in pages:\n",
    "            newScores[page] = 0\n",
    "            \n",
    "            inPages = get_inbound_links(pages, page)\n",
    "\n",
    "            sum_contributions = 0\n",
    "            for link in inPages:\n",
    "                nbOut = len(pages[link])\n",
    "                if nbOut > 0: \n",
    "                    sum_contributions += scores[link] / nbOut\n",
    "            \n",
    "            pr = 0.15 / pageAmount + 0.85 * sum_contributions\n",
    "            newScores[page] = pr\n",
    "        \n",
    "        scores = newScores\n",
    "\n",
    "    return scores\n",
    "\n",
    "def get_inbound_links(pages, page):\n",
    "    inbound_links = []\n",
    "    for src in pages:\n",
    "        if page in pages[src]:\n",
    "            inbound_links.append(src)\n",
    "\n",
    "    return inbound_links\n"
   ]
  },
  {
   "cell_type": "code",
   "execution_count": 2,
   "metadata": {},
   "outputs": [
    {
     "name": "stdout",
     "output_type": "stream",
     "text": [
      "{'A': 0.2148106274731486, 'B': 0.3973996608253249, 'C': 0.38778971170152615}\n"
     ]
    }
   ],
   "source": [
    "\n",
    "pages = {\n",
    "    'A': ['B'],\n",
    "    'B': ['C'],\n",
    "    'C': ['A', 'B']\n",
    "}\n",
    "\n",
    "print(pageRank(pages, 20))\n"
   ]
  },
  {
   "cell_type": "markdown",
   "metadata": {},
   "source": [
    "## Explication du code\n",
    "\n",
    "Dans la première partie du code, on applique donc la modification consistant à partir d'un page rank initial pour chaque page. Pour simplifier, le mieux est de partir de 1/n, n étant le nombres de pages.\n",
    "\n",
    "``` python\n",
    " for page in pages:\n",
    "    scores[page] = 1 / pageAmount\n",
    "```\n",
    "\n",
    "Ensuite on commence à boucler sur le nombre d'itérations voulues et crée les nouveaux rank de l'itération. A noter que plus le nombre d'itérations est grand, plus le ranking final convergera vers les valeurs pouvant être obtenue via la méthode du système d'équation. Une très légère marge \"d'erreur\" est permise au vu de l'efficacité de l'algorithme.\n",
    "\n",
    "\n",
    "``` python\n",
    "for i in range(iterations):\n",
    "    newScores = {}\n",
    "```\n",
    "\n",
    "On boucle ensuite une deuxième fois, cette fois ci sur les pages qui est donc, en terme de structure de données, une liste de liste mais qui représente la matrice d'adjacence du graphe initial. Enfin, dans notre cas, on ne représente pas la matrice sous forme de de liens entrant et sortant mais juste sous la forme : \"A possède un lien entrant vers B et vers C \" -> A = [B, C]. On y recupère la liste des pages ayant des liens entrant vers la page sur laquelle on itère. Pour cela on crée une fonction ```get_inbound_links``` permettant de récupérer ces liens entrant en partant de la liste de page et de la page dont on veut récupérer les liens entrant.\n",
    "\n",
    "```python\n",
    "def get_inbound_links(pages, page):\n",
    "    inbound_links = []\n",
    "    for src in pages:\n",
    "        if page in pages[src]:\n",
    "            inbound_links.append(src)\n",
    "\n",
    "    return inbound_links\n",
    "\n",
    "#--------------------------------------\n",
    "inPages = get_inbound_links(pages, page)\n",
    "\n",
    "sum_contributions = 0\n",
    "```\n",
    "\n",
    "On effectue finalement une dernière boucle en itérant sur les pages ayant des liens entrants vers celle sur laquelle on itère. On y récupère le nombre de liens sortants. Dans le cas où les nombre de liens sortants excède 0, on actualise la \"contribution\" des pages ayant des liens entrant correspondant au score de cette page divisé par son nombre de liens sortants\n",
    "\n",
    "```python\n",
    "for link in inPages:\n",
    "    nbOut = len(pages[link])\n",
    "    if nbOut > 0: \n",
    "        sum_contributions += scores[link] / nbOut\n",
    "```\n",
    "\n",
    "Finalement on applique les constantes de notre équation :\n",
    "\n",
    "```python\n",
    "pr = 0.15 / pageAmount + 0.85 * sum_contributions\n",
    "newScores[page] = pr\n",
    "```"
   ]
  }
 ],
 "metadata": {
  "kernelspec": {
   "display_name": "Python 3",
   "language": "python",
   "name": "python3"
  },
  "language_info": {
   "codemirror_mode": {
    "name": "ipython",
    "version": 3
   },
   "file_extension": ".py",
   "mimetype": "text/x-python",
   "name": "python",
   "nbconvert_exporter": "python",
   "pygments_lexer": "ipython3",
   "version": "3.11.3"
  }
 },
 "nbformat": 4,
 "nbformat_minor": 2
}
