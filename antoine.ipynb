{
 "cells": [
  {
   "cell_type": "markdown",
   "metadata": {},
   "source": []
  },
  {
   "cell_type": "markdown",
   "metadata": {},
   "source": [
    "# Algorithme page rank en partant de valeur initiale\n",
    "\n",
    "En théorie, en partant d'un graphe directionnel on peut construire la matrice adjacente à ce graphe et construire le page rank à partir d'une système à n équation(s) se resolvant assez simplement. Du moins, pour un graphe comportant un nombre limité de sommet / pages. Seulement, dans le cas de google, il y aurait une quantité de page à traiter qui serait bien trop grande, environ 130 000 milliards. Et un système d'équation à 130 000 milliards d'inconnues prendrait trop de temps et l'algorithme serait absolument inexploitable et ce même si l'algorithme est resolvable en temps polynomial O(E.n). Pour palier à cela on peut partir de valeur initiale et ainsi calculer le page rank de chacune des pages indépendament. \n",
    "\n"
   ]
  }
 ],
 "metadata": {
  "language_info": {
   "name": "python"
  }
 },
 "nbformat": 4,
 "nbformat_minor": 2
}
