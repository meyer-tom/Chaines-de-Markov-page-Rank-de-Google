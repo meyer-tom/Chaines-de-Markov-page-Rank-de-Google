{
 "cells": [
  {
   "cell_type": "markdown",
   "metadata": {},
   "source": []
  },
  {
   "cell_type": "markdown",
   "metadata": {},
   "source": [
    "# Algorithme page rank en partant de valeur initiale\n",
    "\n",
    "En théorie, en partant d'un graphe directionnel on peut construire la matrice adjacente à ce graphe et construire le page rank à partir d'une système à n équation(s) se resolvant assez simplement. Du moins, pour un graphe comportant un nombre limité de sommet / pages. Seulement, dans le cas de google, il y aurait une quantité de page à traiter qui serait bien trop grande, environ 130 000 milliards. Et un système d'équation à 130 000 milliards d'inconnues prendrait trop de temps et l'algorithme serait absolument inexploitable et ce même si l'algorithme est resolvable en temps polynomial O(E.n). Pour palier à cela on peut partir de valeur initiale et ainsi calculer le page rank de chacune des pages indépendament. "
   ]
  },
  {
   "cell_type": "code",
   "execution_count": 27,
   "metadata": {},
   "outputs": [],
   "source": [
    "def pageRank(pages, iterations=100):\n",
    "    pageAmount = len(pages)  # Nombre total de pages\n",
    "    scores = {}\n",
    "    \n",
    "    for page in pages:\n",
    "        scores[page] = 1 / pageAmount\n",
    "\n",
    "    for i in range(iterations):\n",
    "        newScores = {}\n",
    "        \n",
    "        for page in pages:\n",
    "            newScores[page] = 0\n",
    "            \n",
    "            # Récupérer la liste des pages entrantes (in)\n",
    "            inPages = get_inbound_links(pages, page)\n",
    "            \n",
    "            # Récupérer la liste des pages sortantes des pages entrantes\n",
    "            outgoingLinksFromInPages = {src: pages[src] for src in inPages}\n",
    "\n",
    "            # Calcul de la somme des contributions des pages entrantes\n",
    "            sum_contributions = 0\n",
    "            for link in inPages:\n",
    "                # Nombre de liens sortants depuis une page entrante\n",
    "                nbOut = len(pages[link])\n",
    "                if nbOut > 0:  # Éviter la division par zéro\n",
    "                    sum_contributions += scores[link] / nbOut\n",
    "            \n",
    "            # Mettre à jour le score de PageRank\n",
    "            pr = 0.15 / pageAmount + 0.85 * sum_contributions\n",
    "            newScores[page] = pr\n",
    "        \n",
    "        # Mettre à jour les scores\n",
    "        scores = newScores\n",
    "\n",
    "    return scores\n",
    "\n",
    "def get_inbound_links(pages, page):\n",
    "    inbound_links = []\n",
    "    for src in pages:\n",
    "        if page in pages[src]:\n",
    "            inbound_links.append(src)\n",
    "\n",
    "    return inbound_links\n"
   ]
  },
  {
   "cell_type": "code",
   "execution_count": 28,
   "metadata": {},
   "outputs": [
    {
     "ename": "TypeError",
     "evalue": "'NoneType' object is not iterable",
     "output_type": "error",
     "traceback": [
      "\u001b[0;31m---------------------------------------------------------------------------\u001b[0m",
      "\u001b[0;31mTypeError\u001b[0m                                 Traceback (most recent call last)",
      "Cell \u001b[0;32mIn[28], line 7\u001b[0m\n\u001b[1;32m      1\u001b[0m pages \u001b[38;5;241m=\u001b[39m {\n\u001b[1;32m      2\u001b[0m     \u001b[38;5;124m'\u001b[39m\u001b[38;5;124mA\u001b[39m\u001b[38;5;124m'\u001b[39m: [\u001b[38;5;124m'\u001b[39m\u001b[38;5;124mB\u001b[39m\u001b[38;5;124m'\u001b[39m],\n\u001b[1;32m      3\u001b[0m     \u001b[38;5;124m'\u001b[39m\u001b[38;5;124mB\u001b[39m\u001b[38;5;124m'\u001b[39m: [\u001b[38;5;124m'\u001b[39m\u001b[38;5;124mC\u001b[39m\u001b[38;5;124m'\u001b[39m],\n\u001b[1;32m      4\u001b[0m     \u001b[38;5;124m'\u001b[39m\u001b[38;5;124mC\u001b[39m\u001b[38;5;124m'\u001b[39m: [\u001b[38;5;124m'\u001b[39m\u001b[38;5;124mA\u001b[39m\u001b[38;5;124m'\u001b[39m, \u001b[38;5;124m'\u001b[39m\u001b[38;5;124mB\u001b[39m\u001b[38;5;124m'\u001b[39m]\n\u001b[1;32m      5\u001b[0m }\n\u001b[0;32m----> 7\u001b[0m \u001b[38;5;28mprint\u001b[39m(\u001b[43mpageRank\u001b[49m\u001b[43m(\u001b[49m\u001b[43mpages\u001b[49m\u001b[43m,\u001b[49m\u001b[43m \u001b[49m\u001b[38;5;241;43m20\u001b[39;49m\u001b[43m)\u001b[49m)\n",
      "Cell \u001b[0;32mIn[27], line 18\u001b[0m, in \u001b[0;36mpageRank\u001b[0;34m(pages, iterations)\u001b[0m\n\u001b[1;32m     15\u001b[0m inPages \u001b[38;5;241m=\u001b[39m get_inbound_links(pages, page)\n\u001b[1;32m     17\u001b[0m \u001b[38;5;66;03m# Récupérer la liste des pages sortantes des pages entrantes\u001b[39;00m\n\u001b[0;32m---> 18\u001b[0m outgoingLinksFromInPages \u001b[38;5;241m=\u001b[39m \u001b[43m{\u001b[49m\u001b[43msrc\u001b[49m\u001b[43m:\u001b[49m\u001b[43m \u001b[49m\u001b[43mpages\u001b[49m\u001b[43m[\u001b[49m\u001b[43msrc\u001b[49m\u001b[43m]\u001b[49m\u001b[43m \u001b[49m\u001b[38;5;28;43;01mfor\u001b[39;49;00m\u001b[43m \u001b[49m\u001b[43msrc\u001b[49m\u001b[43m \u001b[49m\u001b[38;5;129;43;01min\u001b[39;49;00m\u001b[43m \u001b[49m\u001b[43minPages\u001b[49m\u001b[43m}\u001b[49m\n\u001b[1;32m     20\u001b[0m \u001b[38;5;66;03m# Calcul de la somme des contributions des pages entrantes\u001b[39;00m\n\u001b[1;32m     21\u001b[0m sum_contributions \u001b[38;5;241m=\u001b[39m \u001b[38;5;241m0\u001b[39m\n",
      "\u001b[0;31mTypeError\u001b[0m: 'NoneType' object is not iterable"
     ]
    }
   ],
   "source": [
    "\n",
    "pages = {\n",
    "    'A': ['B'],\n",
    "    'B': ['C'],\n",
    "    'C': ['A', 'B']\n",
    "}\n",
    "\n",
    "print(pageRank(pages, 20))\n"
   ]
  },
  {
   "cell_type": "markdown",
   "metadata": {},
   "source": [
    "## Explication du code\n",
    "\n",
    "Dans la première partie du code, on applique donc la modification consistant à partir d'un page rank initial pour chaque page. Pour simplifier, le mieux est de partir de 1/n, n étant le nombres de pages.\n",
    "\n",
    "``` python\n",
    " for page in pages:\n",
    "    scores[page] = 1 / pageAmount\n",
    "```\n",
    "\n",
    "Ensuite on commence à boucler sur le nombre d'itérations voulues et crée les nouveaux rank de l'itération. A noter que plus le nombre d'itérations est grand, plus le ranking final convergera vers les valeurs pouvant être obtenue via la méthode du système d'équation. Une très légère marge \"d'erreur\" est permise au vu de l'efficacité de l'algorithme.\n",
    "\n",
    "\n",
    "``` python\n",
    "for i in range(iterations):\n",
    "    newScores = {}\n",
    "```\n",
    "\n",
    "On boucle ensuite une deuxième fois, cette fois ci sur les pages qui est donc, en terme de structure de données, une liste de liste mais qui représente la matrice d'adjacence du graphe initial. On y recupère la liste des pages ayant des liens entrant vers la page sur laquelle on itère. Pour cela on crée une fonction ```get_inbound_links``` permettant de récupérer ces liens entrant en partant de la liste de page."
   ]
  }
 ],
 "metadata": {
  "kernelspec": {
   "display_name": "Python 3",
   "language": "python",
   "name": "python3"
  },
  "language_info": {
   "codemirror_mode": {
    "name": "ipython",
    "version": 3
   },
   "file_extension": ".py",
   "mimetype": "text/x-python",
   "name": "python",
   "nbconvert_exporter": "python",
   "pygments_lexer": "ipython3",
   "version": "3.11.3"
  }
 },
 "nbformat": 4,
 "nbformat_minor": 2
}
