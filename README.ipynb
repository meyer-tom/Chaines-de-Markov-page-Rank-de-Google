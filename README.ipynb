{
 "cells": [
  {
   "cell_type": "markdown",
   "metadata": {},
   "source": [
    "# Chaînes de Markov : page Rank de Google\n",
    "\n",
    "L’ensemble des pages web disponibles sur l’Internet peut être représenté mathématiquement par un immense graphe, dans lequel chaque sommet est une page web $ P*i $, et dans lequel on ajoute une flèche de $ P_i $ vers $ P_j $ si la page $ P_i $ contient un lien hypertexte vers la page $ P_j $. Ci-dessous, un exemple de graphe pour 12 pages fictives $ P_1 $, $ P_2 $, ..., $ P_{12} $, ainsi que la matrice d’adjacence $ A $ associée \n"
   ]
  },
  {
   "cell_type": "markdown",
   "metadata": {},
   "source": [
    "## Qu'est ce qu'une chaîne de Markov ?\n",
    "\n",
    "On appelle chaîne de Markov une suite de variables aléatoires (Xn) à valeurs dans un espace probabilisé dans lequel l'état futur Xn+1 dépend de l'état actuel Xn sans dépendre des états passés. Pour cette raison on dit d'une chaîne de Markov qu'elle est sans mémoire. "
   ]
  },
  {
   "cell_type": "markdown",
   "metadata": {},
   "source": [
    "<img src=\"./exemple.png\" width=\"400\"/>\n",
    "\n",
    "$\n",
    "A = \n",
    "\\left(\n",
    "\\begin{array}{c|cccccccccccc}\n",
    " & 1 & 2 & 3 & 4 & 5 & 6 & 7 & 8 & 9 & 10 & 11 & 12 \\\\ \\hline\n",
    "1 & 0 & 1 & 1 & 1 & 0 & 0 & 0 & 0 & 0 & 0 & 0 & 0 \\\\\n",
    "2 & 1 & 0 & 1 & 0 & 0 & 0 & 0 & 0 & 0 & 0 & 0 & 0 \\\\\n",
    "3 & 1 & 0 & 0 & 1 & 0 & 0 & 0 & 0 & 0 & 0 & 0 & 0 \\\\\n",
    "4 & 1 & 1 & 0 & 0 & 0 & 0 & 0 & 0 & 0 & 0 & 0 & 0 \\\\\n",
    "5 & 0 & 0 & 0 & 0 & 1 & 1 & 1 & 0 & 0 & 0 & 0 & 0 \\\\\n",
    "6 & 1 & 0 & 0 & 0 & 0 & 1 & 0 & 0 & 0 & 0 & 0 & 0 \\\\\n",
    "7 & 0 & 0 & 0 & 1 & 0 & 0 & 0 & 0 & 0 & 0 & 0 & 0 \\\\\n",
    "8 & 0 & 0 & 0 & 0 & 0 & 0 & 1 & 0 & 0 & 0 & 0 & 0 \\\\\n",
    "9 & 0 & 0 & 0 & 1 & 0 & 0 & 0 & 1 & 0 & 0 & 0 & 0 \\\\\n",
    "10 & 0 & 0 & 0 & 0 & 0 & 0 & 0 & 0 & 1 & 0 & 1 & 1 \\\\\n",
    "11 & 0 & 0 & 0 & 0 & 0 & 0 & 0 & 0 & 1 & 0 & 0 & 1 \\\\\n",
    "12 & 0 & 0 & 0 & 0 & 0 & 0 & 0 & 0 & 1 & 1 & 0 & 0 \\\\\n",
    "\\end{array}\n",
    "\\right)\n",
    "$"
   ]
  },
  {
   "cell_type": "markdown",
   "metadata": {},
   "source": [
    "## Étape 1 : Importer les bibliothèques nécessaires"
   ]
  },
  {
   "cell_type": "code",
   "execution_count": null,
   "metadata": {},
   "outputs": [],
   "source": [
    "import numpy as np"
   ]
  },
  {
   "cell_type": "markdown",
   "metadata": {},
   "source": [
    "La bibliothèque numpy permet de manipuler des matrices et des vecteurs efficacement en Python.\n",
    "\n",
    "## Étape 2 : Définir la matrice d'adjacence A\n",
    "\n",
    "La matrice d'adjacence $ A $ représente les connexions entre les pages web. Si une page $ i $ pointe vers une page $ j $, alors `A[i][j] = 1`. Sinon, `A[i][j] = 0`."
   ]
  },
  {
   "cell_type": "code",
   "execution_count": null,
   "metadata": {},
   "outputs": [],
   "source": [
    "# Définition de la matrice d'adjacence A\n",
    "A = np.array([\n",
    "    [0, 1, 1, 1, 1, 0, 0, 0, 0, 0, 0, 0],\n",
    "    [1, 0, 1, 0, 0, 0, 0, 0, 0, 0, 0, 0],\n",
    "    [1, 0, 0, 1, 0, 0, 0, 0, 0, 0, 0, 0],\n",
    "    [1, 1, 0, 0, 0, 0, 0, 0, 0, 0, 0, 0],\n",
    "    [0, 0, 0, 0, 0, 1, 1, 1, 0, 0, 0, 0],\n",
    "    [1, 0, 0, 0, 0, 0, 1, 0, 0, 0, 0, 0],\n",
    "    [0, 0, 0, 0, 1, 0, 0, 0, 0, 0, 0, 0],\n",
    "    [0, 0, 0, 0, 0, 0, 1, 0, 1, 0, 0, 0],\n",
    "    [0, 0, 0, 0, 1, 0, 0, 0, 0, 1, 1, 1],\n",
    "    [0, 0, 0, 0, 0, 0, 0, 0, 1, 0, 1, 0],\n",
    "    [0, 0, 0, 0, 0, 0, 0, 0, 1, 0, 0, 1],\n",
    "    [0, 0, 0, 0, 0, 0, 0, 0, 1, 1, 0, 0]\n",
    "])"
   ]
  },
  {
   "cell_type": "markdown",
   "metadata": {},
   "source": [
    "## Étape 3 : Calculer la matrice de probabilité P\n",
    "\n",
    "Pour que les valeurs dans chaque ligne de la matrice représentent des probabilités, on divise chaque élément de la ligne par le nombre de liens sortants (ou connexions) de la page correspondante."
   ]
  },
  {
   "cell_type": "code",
   "execution_count": null,
   "metadata": {},
   "outputs": [],
   "source": [
    "# Calcul de la matrice de probabilité P\n",
    "P = np.zeros_like(A, dtype=float)  # Matrice P de la même taille que A avec des 0\n",
    "for i in range(A.shape[0]):\n",
    "    liens = np.sum(A[i, :])  # Somme des éléments de la ligne i\n",
    "    if liens > 0:  # Evite la division par zéro\n",
    "        P[i, :] = A[i, :] / liens"
   ]
  },
  {
   "cell_type": "markdown",
   "metadata": {},
   "source": [
    "Explication :\n",
    "\n",
    "- Pour chaque ligne $ i $ dans $ A $, on calcule le nombre de liens sortants.\n",
    "- Si une page a au moins un lien sortant, chaque élément de la ligne est divisé par ce nombre.\n",
    "- Ainsi, chaque ligne de $ P $ contient des valeurs de probabilité qui représentent les chances de suivre chaque lien sortant de la page $ i $.\n",
    "\n",
    "## Étape 4 : Initialiser le vecteur X0\n",
    "\n",
    "Le vecteur $ X_0 $ est notre vecteur d'état initial, qui représente la probabilité d'être sur chaque page au tout début. Ici, on initialise $ X_0 $ avec la première page ayant une probabilité de 1 et toutes les autres à 0."
   ]
  },
  {
   "cell_type": "code",
   "execution_count": null,
   "metadata": {},
   "outputs": [],
   "source": [
    "# Création du vecteur X0\n",
    "X0 = np.zeros(A.shape[0])\n",
    "X0[0] = 1  # On initialise X0 avec 1 dans la première case"
   ]
  },
  {
   "cell_type": "markdown",
   "metadata": {},
   "source": [
    "## Étape 5 : Calculer le vecteur de probabilité Xn\n",
    "\n",
    "On itère pour mettre à jour les probabilités jusqu'à convergence (stabilisation des valeurs). À chaque étape, le nouveau vecteur $ X_{n+1} $ est obtenu en multipliant l'état actuel $ X_n $ par la matrice de probabilité $ P $."
   ]
  },
  {
   "cell_type": "code",
   "execution_count": null,
   "metadata": {},
   "outputs": [],
   "source": [
    "# Calcul de Xn\n",
    "Xn = X0\n",
    "Xn1 = Xn @ P\n",
    "while not np.array_equal(Xn1, Xn):  # Boucle jusqu'à convergence\n",
    "    Xn = Xn1\n",
    "    Xn1 = Xn @ P"
   ]
  },
  {
   "cell_type": "markdown",
   "metadata": {},
   "source": [
    "Explication :\n",
    "\n",
    "- Tant que le vecteur $ X_{n+1} $ diffère de $ X_n $, on met à jour $ X_n $.\n",
    "- La condition de la boucle `np.array_equal(Xn1, Xn)` permet de vérifier si les probabilités sont stabilisées (pas de changement entre deux itérations).\n",
    "\n",
    "## Étape 6 : Afficher le classement des pages\n",
    "\n",
    "Pour afficher le classement des pages, on trie les valeurs de $ X_{n+1} $ en ordre décroissant. Ensuite, on affiche les pages et leurs scores PageRank."
   ]
  },
  {
   "cell_type": "code",
   "execution_count": null,
   "metadata": {},
   "outputs": [
    {
     "name": "stdout",
     "output_type": "stream",
     "text": [
      "Classement des pages web selon PageRank :\n",
      "Page 5 : PageRank = 0.17647058823529382\n",
      "Page 1 : PageRank = 0.11764705882352926\n",
      "Page 7 : PageRank = 0.11764705882352922\n",
      "Page 9 : PageRank = 0.11764705882352917\n",
      "Page 4 : PageRank = 0.058823529411764636\n",
      "Page 3 : PageRank = 0.058823529411764636\n",
      "Page 2 : PageRank = 0.058823529411764636\n",
      "Page 8 : PageRank = 0.05882352941176461\n",
      "Page 6 : PageRank = 0.05882352941176461\n",
      "Page 12 : PageRank = 0.05882352941176458\n",
      "Page 11 : PageRank = 0.05882352941176458\n",
      "Page 10 : PageRank = 0.05882352941176458\n"
     ]
    }
   ],
   "source": [
    "# Affichage des résultats\n",
    "Vrang = np.sort(Xn1)[::-1]  # Trie des valeurs de Xn en ordre décroissant\n",
    "rangP = np.argsort(Xn1)[::-1]  # Indices des pages triées\n",
    "\n",
    "print(\"Classement des pages web selon PageRank :\")\n",
    "for i in range(len(rangP)):\n",
    "    print(f\"Page {rangP[i] + 1} : PageRank = {Xn1[rangP[i]]}\")\n"
   ]
  },
  {
   "cell_type": "markdown",
   "metadata": {},
   "source": [
    "Explication :\n",
    "\n",
    "- `np.sort(Xn1)[::-1]` trie les valeurs en ordre décroissant. <br>\n",
    "- `np.argsort(Xn1)[::-1]` obtient les indices des pages dans l'ordre décroissant de leur PageRank. <br>\n",
    "- On utilise une boucle pour afficher chaque page avec son score PageRank."
   ]
  }
 ],
 "metadata": {
  "kernelspec": {
   "display_name": "Python 3",
   "language": "python",
   "name": "python3"
  },
  "language_info": {
   "codemirror_mode": {
    "name": "ipython",
    "version": 3
   },
   "file_extension": ".py",
   "mimetype": "text/x-python",
   "name": "python",
   "nbconvert_exporter": "python",
   "pygments_lexer": "ipython3",
   "version": "3.11.3"
  }
 },
 "nbformat": 4,
 "nbformat_minor": 2
}
